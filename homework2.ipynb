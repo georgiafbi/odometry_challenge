{
 "cells": [
  {
   "cell_type": "code",
   "execution_count": 26,
   "id": "1566fa62-ca64-44b7-9ca4-80addacb9315",
   "metadata": {},
   "outputs": [],
   "source": [
    "import matplotlib.pyplot as plt\n",
    "import numpy as np\n",
    "import math"
   ]
  },
  {
   "cell_type": "code",
   "execution_count": 8,
   "id": "527928a7-4415-4064-ba3c-b6ae5896b3a7",
   "metadata": {},
   "outputs": [],
   "source": [
    "#ω\n",
    "omega_l=[2,2,2.5,2.5,3,3,3.5,3.5,5,5,5,5,3.5,3.5,3,3,2,2,2,2] #angular velocity (rad/s) out put of left wheel encoder\n",
    "omega_r=[2,2,2,2,2.5,2.5,3.5,3.5,5,5,5,5,4.5,4.5,3.5,3.5,2.5,2.5,2,2] #angular velocity (rad/s) out put of right wheel encoder"
   ]
  },
  {
   "cell_type": "code",
   "execution_count": 9,
   "id": "5452fd5d-fb16-4fbf-be31-811aa5eb1e25",
   "metadata": {},
   "outputs": [],
   "source": [
    "L=0.5 #meters\n",
    "robot_width=2*L #meters\n",
    "wheel_radius = 0.1 #meters\n",
    "delta_time = 0.5 #seconds"
   ]
  },
  {
   "cell_type": "code",
   "execution_count": 10,
   "id": "0a597b15-e3a4-4819-9d94-19b0fc388ad7",
   "metadata": {},
   "outputs": [],
   "source": [
    "init_pos=(0,0,0)"
   ]
  },
  {
   "cell_type": "code",
   "execution_count": 27,
   "id": "925b0e5b-1c02-4608-a3d7-12cd05970856",
   "metadata": {},
   "outputs": [],
   "source": [
    "class differential_drive_robot():\n",
    "    \n",
    "    def __init__(self,robot_width,wheel_radius,init_pos,delta_time):\n",
    "        '''\n",
    "        the initialization of the mobile robot object\n",
    "        '''\n",
    "        \n",
    "        self.v_l=[0]\n",
    "        self.v_r=[0]\n",
    "        self.del_s_l=[0]\n",
    "        self.del_s_r=[0]\n",
    "        self.delta_s=[0]\n",
    "        self.delta_y=[init_pos[1]]\n",
    "        self.delta_x=[init_pos[0]]\n",
    "        self.theta=[init_pos[2]]\n",
    "        self.time=[0]\n",
    "        self.initial_theta=init_pos[2]\n",
    "        self.current_theta=init_pos[2]\n",
    "        \n",
    "        self.current_pos=init_pos\n",
    "        self.path=[init_pos]\n",
    "        self.robot_width=robot_width\n",
    "        self.wheel_radius=wheel_radius\n",
    "        self.init_pos=init_pos\n",
    "        self.delta_time=delta_time\n",
    "    def robot_coordinates(self):\n",
    "        delx=self.delta_s[len(self.delta_s)-1]*math.cos(self.theta[len(self.theta)-1]+self.current_theta/2)\n",
    "        dely=self.delta_s[len(self.delta_s)-1]*math.sin(self.theta[len(self.theta)-1]+self.current_theta/2)\n",
    "        self.delta_x.append(delx)\n",
    "        self.delta_y.append(dely)\n",
    "        \n",
    "    def robot_orientation(self,deltaSLeft,deltaSRight):\n",
    "        delta_theta=(deltaSRight-deltaSLeft)/self.robot_width\n",
    "        \n",
    "        theta_plus_delta_theta=self.current_theta+delta_theta\n",
    "        \n",
    "        self.current_theta=delta_theta\n",
    "        \n",
    "        self.theta.append(theta_plus_delta_theta)\n",
    "        self.robot_coordinates()\n",
    "            \n",
    "    def displacement(self, vel_l,vel_r):\n",
    "        delta_s_l=vel_l*self.delta_time\n",
    "        delta_s_r=vel_r*self.delta_time\n",
    "        \n",
    "        self.time.append(self.time[len(self.time)-1]+self.delta_time)\n",
    "        \n",
    "        self.del_s_l.append(delta_s_l)\n",
    "        self.del_s_r.append(delta_s_r)\n",
    "        \n",
    "        self.delta_s.append((delta_s_l+delta_s_r)/2)\n",
    "        self.robot_orientation(delta_s_l,delta_s_r)\n",
    "        \n",
    "    def velocity(self,left_omega,right_omega):\n",
    "        vel_l=left_omega*wheel_radius\n",
    "        vel_r=right_omega*wheel_radius\n",
    "        \n",
    "        self.v_l.append(vel_l)\n",
    "        self.v_r.append(vel_r)\n",
    "        \n",
    "        self.displacement(vel_l,vel_r)\n",
    "            \n",
    "        \n",
    "        "
   ]
  },
  {
   "cell_type": "code",
   "execution_count": 28,
   "id": "fc9791d7-a1b0-471e-b8f2-14cf65523659",
   "metadata": {},
   "outputs": [
    {
     "name": "stdout",
     "output_type": "stream",
     "text": [
      "[0, 0.0, 0.0, -0.024999999999999994, -0.04999999999999999, -0.05000000000000002, -0.050000000000000044, -0.025000000000000022, 0.0, 0.0, 0.0, 0.0, 0.0, 0.04999999999999999, 0.09999999999999998, 0.07499999999999998, 0.04999999999999999, 0.04999999999999999, 0.04999999999999999, 0.024999999999999994, 0.0]\n",
      "[0, 0.1, 0.1, 0.11242090770677986, 0.11228034495376116, 0.13723153272126365, 0.13723153272126365, 0.17494531534824798, 0.17500000000000002, 0.25, 0.25, 0.25, 0.25, 0.1994377636224415, 0.19843953344586582, 0.16187832648004244, 0.16218272048876614, 0.11228034495376116, 0.11228034495376116, 0.09996875162757027, 0.1]\n",
      "[0, 0.0, 0.0, -0.0042177612999892795, -0.007026673257267771, -0.008588156203327282, -0.008588156203327285, -0.004374544285074662, 0.0, 0.0, 0.0, 0.0, 0.0, 0.014985941454548466, 0.024934946677045534, 0.01420061322692792, 0.010149639149386783, 0.007026673257267771, 0.007026673257267771, 0.0024997395914712326, 0.0]\n"
     ]
    }
   ],
   "source": [
    "if __name__ == '__main__':\n",
    "    '''main'''\n",
    "    mobile_robot=differential_drive_robot(robot_width, wheel_radius, init_pos,delta_time)\n",
    "    for i in range(len(omega_l)):\n",
    "        mobile_robot.velocity(omega_l[i],omega_r[i])\n",
    "        \n",
    "#     print(mobile_robot.v_l,mobile_robot.v_r)\n",
    "    #print(mobile_robot.time, mobile_robot.delta_s)\n",
    "    print(mobile_robot.theta)\n",
    "    print(mobile_robot.delta_x)\n",
    "    print(mobile_robot.delta_y)"
   ]
  },
  {
   "cell_type": "code",
   "execution_count": null,
   "id": "84423cb9-3bf7-4489-9a37-ac3fb2a42b73",
   "metadata": {},
   "outputs": [],
   "source": []
  }
 ],
 "metadata": {
  "kernelspec": {
   "display_name": "Python 3 (ipykernel)",
   "language": "python",
   "name": "python3"
  },
  "language_info": {
   "codemirror_mode": {
    "name": "ipython",
    "version": 3
   },
   "file_extension": ".py",
   "mimetype": "text/x-python",
   "name": "python",
   "nbconvert_exporter": "python",
   "pygments_lexer": "ipython3",
   "version": "3.8.11"
  }
 },
 "nbformat": 4,
 "nbformat_minor": 5
}
