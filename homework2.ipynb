{
 "cells": [
  {
   "cell_type": "code",
   "execution_count": 1,
   "id": "1566fa62-ca64-44b7-9ca4-80addacb9315",
   "metadata": {},
   "outputs": [],
   "source": [
    "import matplotlib.pyplot as plt\n",
    "import numpy as np"
   ]
  },
  {
   "cell_type": "code",
   "execution_count": 2,
   "id": "527928a7-4415-4064-ba3c-b6ae5896b3a7",
   "metadata": {},
   "outputs": [],
   "source": [
    "#ω\n",
    "omega_l=[2,2,2.5,2.5,3,3,3.5,3.5,5,5,5,5,3.5,3.5,3,3,2,2,2,2] #angular velocity (rad/s) out put of left wheel encoder\n",
    "omega_r=[2,2,2,2,2.5,2.5,3.5,3.5,5,5,5,5,4.5,4.5,3.5,3.5,2.5,2.5,2,2] #angular velocity (rad/s) out put of right wheel encoder"
   ]
  },
  {
   "cell_type": "code",
   "execution_count": 3,
   "id": "5452fd5d-fb16-4fbf-be31-811aa5eb1e25",
   "metadata": {},
   "outputs": [],
   "source": [
    "L=0.5 #meters\n",
    "robot_width=2*L #meters\n",
    "wheel_radius = 0.1 #meters\n",
    "delta_time = 0.5 #seconds"
   ]
  },
  {
   "cell_type": "code",
   "execution_count": 4,
   "id": "0a597b15-e3a4-4819-9d94-19b0fc388ad7",
   "metadata": {},
   "outputs": [],
   "source": [
    "init_pos=(0,0,0)"
   ]
  },
  {
   "cell_type": "code",
   "execution_count": 23,
   "id": "925b0e5b-1c02-4608-a3d7-12cd05970856",
   "metadata": {},
   "outputs": [],
   "source": [
    "class differential_drive_robot():\n",
    "    \n",
    "    def __init__(self,robot_width,wheel_radius,init_pos,delta_time):\n",
    "        '''\n",
    "        the initialization of the mobile robot object\n",
    "        '''\n",
    "        \n",
    "        self.v_l=[0]\n",
    "        self.v_r=[0]\n",
    "        self.del_s_l=[0]\n",
    "        self.del_s_r=[0]\n",
    "        self.delta_s=[0]\n",
    "        self.time=[0]\n",
    "        self.current_pos=init_pos\n",
    "        self.path=[init_pos]\n",
    "        self.robot_width=robot_width\n",
    "        self.wheel_radius=wheel_radius\n",
    "        self.init_pos=init_pos\n",
    "        self.delta_time=delta_time\n",
    "    def displacement(self, vel_l,vel_r):\n",
    "        delta_s_l=vel_l*self.delta_time\n",
    "        delta_s_r=vel_r*self.delta_time\n",
    "        \n",
    "        self.time.append(self.time[len(self.time)-1]+self.delta_time)\n",
    "        \n",
    "        self.del_s_l.append(delta_s_l)\n",
    "        self.del_s_r.append(delta_s_r)\n",
    "        \n",
    "        self.delta_s.append((delta_s_l+delta_s_r)/2)\n",
    "        \n",
    "    def velocity(self,left_omega,right_omega):\n",
    "        vel_l=left_omega*wheel_radius\n",
    "        vel_r=right_omega*wheel_radius\n",
    "        \n",
    "        self.v_l.append(vel_l)\n",
    "        self.v_r.append(vel_r)\n",
    "        \n",
    "        self.displacement(vel_l,vel_r)\n",
    "            \n",
    "        \n",
    "        "
   ]
  },
  {
   "cell_type": "code",
   "execution_count": 26,
   "id": "fc9791d7-a1b0-471e-b8f2-14cf65523659",
   "metadata": {},
   "outputs": [
    {
     "ename": "AttributeError",
     "evalue": "'list' object has no attribute 'round'",
     "output_type": "error",
     "traceback": [
      "\u001b[1;31m---------------------------------------------------------------------------\u001b[0m",
      "\u001b[1;31mAttributeError\u001b[0m                            Traceback (most recent call last)",
      "\u001b[1;32m~\\AppData\\Local\\Temp/ipykernel_30052/402236270.py\u001b[0m in \u001b[0;36m<module>\u001b[1;34m\u001b[0m\n\u001b[0;32m      5\u001b[0m         \u001b[0mmobile_robot\u001b[0m\u001b[1;33m.\u001b[0m\u001b[0mvelocity\u001b[0m\u001b[1;33m(\u001b[0m\u001b[0momega_l\u001b[0m\u001b[1;33m[\u001b[0m\u001b[0mi\u001b[0m\u001b[1;33m]\u001b[0m\u001b[1;33m,\u001b[0m\u001b[0momega_r\u001b[0m\u001b[1;33m[\u001b[0m\u001b[0mi\u001b[0m\u001b[1;33m]\u001b[0m\u001b[1;33m)\u001b[0m\u001b[1;33m\u001b[0m\u001b[1;33m\u001b[0m\u001b[0m\n\u001b[0;32m      6\u001b[0m \u001b[1;33m\u001b[0m\u001b[0m\n\u001b[1;32m----> 7\u001b[1;33m     \u001b[0mprint\u001b[0m\u001b[1;33m(\u001b[0m\u001b[0mmobile_robot\u001b[0m\u001b[1;33m.\u001b[0m\u001b[0mv_l\u001b[0m\u001b[1;33m.\u001b[0m\u001b[0mround\u001b[0m\u001b[1;33m(\u001b[0m\u001b[1;36m2\u001b[0m\u001b[1;33m)\u001b[0m\u001b[1;33m,\u001b[0m\u001b[0mmobile_robot\u001b[0m\u001b[1;33m.\u001b[0m\u001b[0mv_r\u001b[0m\u001b[1;33m.\u001b[0m\u001b[0mround\u001b[0m\u001b[1;33m(\u001b[0m\u001b[1;36m2\u001b[0m\u001b[1;33m)\u001b[0m\u001b[1;33m)\u001b[0m\u001b[1;33m\u001b[0m\u001b[1;33m\u001b[0m\u001b[0m\n\u001b[0m",
      "\u001b[1;31mAttributeError\u001b[0m: 'list' object has no attribute 'round'"
     ]
    }
   ],
   "source": [
    "if __name__ == '__main__':\n",
    "    '''main'''\n",
    "    mobile_robot=differential_drive_robot(robot_width, wheel_radius, init_pos,delta_time)\n",
    "    for i in range(len(omega_l)):\n",
    "        mobile_robot.velocity(omega_l[i],omega_r[i])\n",
    "        \n",
    "    print(mobile_robot.v_l,mobile_robot.v_r)"
   ]
  },
  {
   "cell_type": "code",
   "execution_count": null,
   "id": "84423cb9-3bf7-4489-9a37-ac3fb2a42b73",
   "metadata": {},
   "outputs": [],
   "source": []
  }
 ],
 "metadata": {
  "kernelspec": {
   "display_name": "Python 3 (ipykernel)",
   "language": "python",
   "name": "python3"
  },
  "language_info": {
   "codemirror_mode": {
    "name": "ipython",
    "version": 3
   },
   "file_extension": ".py",
   "mimetype": "text/x-python",
   "name": "python",
   "nbconvert_exporter": "python",
   "pygments_lexer": "ipython3",
   "version": "3.8.11"
  }
 },
 "nbformat": 4,
 "nbformat_minor": 5
}
