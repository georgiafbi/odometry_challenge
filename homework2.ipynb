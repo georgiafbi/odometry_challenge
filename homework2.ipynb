{
 "cells": [
  {
   "cell_type": "code",
   "execution_count": 2,
   "id": "1566fa62-ca64-44b7-9ca4-80addacb9315",
   "metadata": {},
   "outputs": [],
   "source": [
    "import matplotlib.pyplot as plt\n",
    "import numpy as np"
   ]
  },
  {
   "cell_type": "code",
   "execution_count": 5,
   "id": "527928a7-4415-4064-ba3c-b6ae5896b3a7",
   "metadata": {},
   "outputs": [],
   "source": [
    "#ω\n",
    "omega_l=[2,2,2.5,2.5,3,3,3.5,3.5,5,5,5,5,3.5,3.5,3,3,2,2,2,2] #angular velocity (rad/s) out put of left wheel encoder\n",
    "omega_r=[2,2,2,2,2.5,2.5,3.5,3.5,5,5,5,5,4.5,4.5,3.5,3.5,2.5,2.5,2,2] #angular velocity (rad/s) out put of right wheel encoder"
   ]
  },
  {
   "cell_type": "code",
   "execution_count": 6,
   "id": "5452fd5d-fb16-4fbf-be31-811aa5eb1e25",
   "metadata": {},
   "outputs": [],
   "source": [
    "L=0.5 #meters\n",
    "robot_width=2*L #meters\n",
    "wheel_radius = 0.1 #meters"
   ]
  },
  {
   "cell_type": "code",
   "execution_count": 7,
   "id": "0a597b15-e3a4-4819-9d94-19b0fc388ad7",
   "metadata": {},
   "outputs": [],
   "source": [
    "init_pos=(0,0,0)"
   ]
  },
  {
   "cell_type": "code",
   "execution_count": null,
   "id": "925b0e5b-1c02-4608-a3d7-12cd05970856",
   "metadata": {},
   "outputs": [],
   "source": [
    "class differential_drive_robot():\n",
    "    \n",
    "    def __init__(self,robot_width,wheel_radius,init_pos):\n",
    "        '''\n",
    "        the initialization of the mobile robot object\n",
    "        '''\n",
    "        \n",
    "        self.v_l=[]\n",
    "        self.v_r=[]\n",
    "        self.del_s_l=[]\n",
    "        self.del_s_r=[]\n",
    "        self.current_pos=init_pos\n",
    "        self.path=[init_pos]\n",
    "        self.robot_width=robot_width\n",
    "        self.wheel_radius=wheel_radius\n",
    "        self.init_pos=init_pos\n",
    "    \n",
    "    def velocity(self,left_omega,right_omega):\n",
    "        vel_l=left_omega*wheel_radius\n",
    "        vel_r=right_omega*wheel_radius\n",
    "        v_l.append(vel_l)\n",
    "        v_r.append(vel_r)\n",
    "        \n",
    "        "
   ]
  },
  {
   "cell_type": "code",
   "execution_count": null,
   "id": "fc9791d7-a1b0-471e-b8f2-14cf65523659",
   "metadata": {},
   "outputs": [],
   "source": [
    "if __name__ == '__main__':\n",
    "    '''main'''"
   ]
  }
 ],
 "metadata": {
  "kernelspec": {
   "display_name": "Python 3 (ipykernel)",
   "language": "python",
   "name": "python3"
  },
  "language_info": {
   "codemirror_mode": {
    "name": "ipython",
    "version": 3
   },
   "file_extension": ".py",
   "mimetype": "text/x-python",
   "name": "python",
   "nbconvert_exporter": "python",
   "pygments_lexer": "ipython3",
   "version": "3.8.11"
  }
 },
 "nbformat": 4,
 "nbformat_minor": 5
}
